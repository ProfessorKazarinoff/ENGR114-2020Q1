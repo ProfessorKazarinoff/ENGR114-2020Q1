{
 "cells": [
  {
   "cell_type": "markdown",
   "metadata": {},
   "source": [
    "# Week 4 Notes: Review Arrays and Plotting"
   ]
  },
  {
   "cell_type": "markdown",
   "metadata": {},
   "source": [
    "## Review of NumPy arrays"
   ]
  },
  {
   "cell_type": "code",
   "execution_count": 1,
   "metadata": {},
   "outputs": [
    {
     "name": "stdout",
     "output_type": "stream",
     "text": [
      "NumPy Version: 1.15.1\n"
     ]
    }
   ],
   "source": [
    "import numpy as np\n",
    "print(f\"NumPy Version: {np.__version__}\")"
   ]
  },
  {
   "cell_type": "code",
   "execution_count": 2,
   "metadata": {},
   "outputs": [
    {
     "name": "stdout",
     "output_type": "stream",
     "text": [
      "[[ 3  5  7]\n",
      " [60 70 80]]\n"
     ]
    }
   ],
   "source": [
    "a = np.array([ [ 3,5,7    ] , [ 60, 70, 80     ]  ])\n",
    "print(a)"
   ]
  },
  {
   "cell_type": "code",
   "execution_count": 3,
   "metadata": {},
   "outputs": [
    {
     "data": {
      "text/plain": [
       "7"
      ]
     },
     "execution_count": 3,
     "metadata": {},
     "output_type": "execute_result"
    }
   ],
   "source": [
    "# pull out the number 7 from the array\n",
    "a[0,2]"
   ]
  },
  {
   "cell_type": "code",
   "execution_count": 4,
   "metadata": {},
   "outputs": [
    {
     "data": {
      "text/plain": [
       "60"
      ]
     },
     "execution_count": 4,
     "metadata": {},
     "output_type": "execute_result"
    }
   ],
   "source": [
    "# pull out the number 60\n",
    "a[1,0]"
   ]
  },
  {
   "cell_type": "code",
   "execution_count": 5,
   "metadata": {},
   "outputs": [
    {
     "data": {
      "text/plain": [
       "array([60, 70, 80])"
      ]
     },
     "execution_count": 5,
     "metadata": {},
     "output_type": "execute_result"
    }
   ],
   "source": [
    "# pull out 60 70 80\n",
    "a[1,0:3:1]\n",
    "a[1,0:3]\n",
    "a[1,:3]\n",
    "a[1,0:]\n",
    "a[1,:]"
   ]
  },
  {
   "cell_type": "code",
   "execution_count": 6,
   "metadata": {},
   "outputs": [
    {
     "data": {
      "text/plain": [
       "array([ 7, 80])"
      ]
     },
     "execution_count": 6,
     "metadata": {},
     "output_type": "execute_result"
    }
   ],
   "source": [
    "# pull out 7 80 from the array  # rows: 0 and 1, col: 2\n",
    "a[0:2:1,2]\n",
    "a[:2:1,2]\n",
    "a[0:2,2]\n",
    "a[:,2]"
   ]
  },
  {
   "cell_type": "code",
   "execution_count": 7,
   "metadata": {},
   "outputs": [
    {
     "data": {
      "text/plain": [
       "array([[ 3,  5,  7],\n",
       "       [60, 70, 80]])"
      ]
     },
     "execution_count": 7,
     "metadata": {},
     "output_type": "execute_result"
    }
   ],
   "source": [
    "a"
   ]
  },
  {
   "cell_type": "code",
   "execution_count": 8,
   "metadata": {},
   "outputs": [
    {
     "name": "stdout",
     "output_type": "stream",
     "text": [
      "[[False False False]\n",
      " [ True  True  True]]\n"
     ]
    },
    {
     "data": {
      "text/plain": [
       "array([60, 70, 80])"
      ]
     },
     "execution_count": 8,
     "metadata": {},
     "output_type": "execute_result"
    }
   ],
   "source": [
    "# pull out all the values from the array that are greater than 10\n",
    "mask = a>10\n",
    "print(mask)\n",
    "a[mask]"
   ]
  },
  {
   "cell_type": "code",
   "execution_count": 9,
   "metadata": {},
   "outputs": [
    {
     "name": "stdout",
     "output_type": "stream",
     "text": [
      "80\n",
      "[[False False False]\n",
      " [False False  True]]\n"
     ]
    },
    {
     "data": {
      "text/plain": [
       "array([80])"
      ]
     },
     "execution_count": 9,
     "metadata": {},
     "output_type": "execute_result"
    }
   ],
   "source": [
    "# pull out the maximum value\n",
    "max_value = np.max(a)\n",
    "print(max_value)\n",
    "max_mask = a==max_value\n",
    "print(max_mask)\n",
    "a[max_mask]"
   ]
  },
  {
   "cell_type": "code",
   "execution_count": 10,
   "metadata": {},
   "outputs": [
    {
     "name": "stdout",
     "output_type": "stream",
     "text": [
      "<class 'tuple'>\n",
      "row: [1] , col: [2]\n"
     ]
    },
    {
     "data": {
      "text/plain": [
       "array([80])"
      ]
     },
     "execution_count": 10,
     "metadata": {},
     "output_type": "execute_result"
    }
   ],
   "source": [
    "# what is the location of the max value?\n",
    "max_value = np.max(a)\n",
    "loc = np.where(a==max_value)\n",
    "print(type(loc))\n",
    "print(f\"row: {loc[0]} , col: {loc[1]}\")\n",
    "a[loc]"
   ]
  },
  {
   "cell_type": "markdown",
   "metadata": {},
   "source": [
    "## Plotting with Matplotlib"
   ]
  },
  {
   "cell_type": "code",
   "execution_count": 11,
   "metadata": {},
   "outputs": [],
   "source": [
    "import matplotlib.pyplot as plt\n",
    "# if using a Jupyter notebook, include:\n",
    "%matplotlib inline"
   ]
  },
  {
   "cell_type": "code",
   "execution_count": 12,
   "metadata": {},
   "outputs": [
    {
     "data": {
      "image/png": "[encoded data removed]",
      "text/plain": [
       "<Figure size 432x288 with 1 Axes>"
      ]
     },
     "metadata": {
      "needs_background": "light"
     },
     "output_type": "display_data"
    }
   ],
   "source": [
    "# Create data\n",
    "x = [1,2,3,4]\n",
    "y = [4,7,12,15]\n",
    "\n",
    "# Create figure and axes object\n",
    "fig, ax = plt.subplots()\n",
    "\n",
    "# plot the data on the axes object\n",
    "ax.plot(x,y)\n",
    "\n",
    "# customize the plot\n",
    "ax.set_title('A simple line plot')\n",
    "ax.set_xlabel('x values')\n",
    "ax.set_ylabel('y values')\n",
    "ax.legend(['blue line'])\n",
    "\n",
    "# show the plot\n",
    "plt.show()"
   ]
  },
  {
   "cell_type": "markdown",
   "metadata": {},
   "source": [
    "## Create a Multi-line plot, save the plot to a .png file"
   ]
  },
  {
   "cell_type": "code",
   "execution_count": 13,
   "metadata": {},
   "outputs": [],
   "source": [
    "# imports\n",
    "import numpy as np\n",
    "import matplotlib.pyplot as plt\n",
    "# if using a Jupyter notebook, inlcude:\n",
    "%matplotlib inline"
   ]
  },
  {
   "cell_type": "code",
   "execution_count": 14,
   "metadata": {},
   "outputs": [
    {
     "data": {
      "image/png": "[encoded data removed]",
      "text/plain": [
       "<Figure size 432x288 with 1 Axes>"
      ]
     },
     "metadata": {
      "needs_background": "light"
     },
     "output_type": "display_data"
    }
   ],
   "source": [
    "# Create the data to plot\n",
    "x = np.arange(0,4*np.pi,0.1)\n",
    "y1 = np.sin(x)\n",
    "y2 = np.cos(x)\n",
    "\n",
    "# Create the figure and axes objects\n",
    "fig, ax = plt.subplots()\n",
    "\n",
    "# plot the data on the axes object\n",
    "ax.plot(x,y1)\n",
    "ax.plot(x,y2)\n",
    "\n",
    "# customize the plot\n",
    "ax.set_xlabel('x from 0 to 4pi')\n",
    "ax.set_ylabel('sin(x) and cos(x)')\n",
    "ax.set_title('Plot of sine and cosine')\n",
    "ax.legend(['sin(x)','cos(x)'])\n",
    "\n",
    "# save the plot\n",
    "fig.savefig('plot.png')\n",
    "\n",
    "# show the plot\n",
    "plt.show()"
   ]
  },
  {
   "cell_type": "markdown",
   "metadata": {},
   "source": [
    "### In-class plotting exersize"
   ]
  },
  {
   "cell_type": "code",
   "execution_count": 15,
   "metadata": {},
   "outputs": [],
   "source": [
    "# imports\n",
    "import numpy as np\n",
    "import matplotlib.pyplot as plt\n",
    "# if unsing a Jupyter notebook, include:\n",
    "%matplotlib inline"
   ]
  },
  {
   "cell_type": "code",
   "execution_count": 16,
   "metadata": {},
   "outputs": [
    {
     "data": {
      "image/png": "[encoded data removed]",
      "text/plain": [
       "<Figure size 432x288 with 1 Axes>"
      ]
     },
     "metadata": {
      "needs_background": "light"
     },
     "output_type": "display_data"
    }
   ],
   "source": [
    "# create the data to plot\n",
    "r = np.arange(0.01,1.00,0.01)\n",
    "Ea = -1.436/r\n",
    "Er = 7.32e-6/r**8\n",
    "En = Ea + Er\n",
    "\n",
    "# create figure and axis objects\n",
    "fig, ax = plt.subplots()\n",
    "\n",
    "# plot the data on the axes object\n",
    "ax.plot(r,Ea,'blue')\n",
    "ax.plot(r,Er,'orange')\n",
    "ax.plot(r,En,'yellow')\n",
    "\n",
    "# customize the plot\n",
    "ax.set_xlabel('Interatomic Distance (nm)')\n",
    "ax.set_ylabel('Bonding Energy (eV)')\n",
    "ax.set_title('Bonding Energy vs. Interatomic Distance')\n",
    "ax.set_xlim([0, 1.00])\n",
    "ax.set_ylim([-6, 6])\n",
    "ax.legend(['Ea','Er','En'])\n",
    "\n",
    "# save the plot to a .png\n",
    "fig.savefig('bond_energy_plot.png')\n",
    "\n",
    "# show the plot\n",
    "plt.show()"
   ]
  },
  {
   "cell_type": "code",
   "execution_count": null,
   "metadata": {},
   "outputs": [],
   "source": []
  }
 ],
 "metadata": {
  "kernelspec": {
   "display_name": "Python 3",
   "language": "python",
   "name": "python3"
  },
  "language_info": {
   "codemirror_mode": {
    "name": "ipython",
    "version": 3
   },
   "file_extension": ".py",
   "mimetype": "text/x-python",
   "name": "python",
   "nbconvert_exporter": "python",
   "pygments_lexer": "ipython3",
   "version": "3.7.0"
  }
 },
 "nbformat": 4,
 "nbformat_minor": 2
}
