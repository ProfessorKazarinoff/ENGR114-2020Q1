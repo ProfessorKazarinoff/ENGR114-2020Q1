{
 "cells": [
  {
   "cell_type": "markdown",
   "metadata": {},
   "source": [
    "# Lab 2: Data Types\n",
    "\n",
    " * Peter Kazarinoff\n",
    " * ENGR114 2020Q1\n",
    " * 2020-01-15\n"
   ]
  },
  {
   "cell_type": "markdown",
   "metadata": {},
   "source": [
    "## Review how to bring data from an external file into a Jupyter notebook"
   ]
  },
  {
   "cell_type": "markdown",
   "metadata": {},
   "source": [
    "First ensure the external file you want to work with is in the same directory as your running Jupyter notebook. The ```%ls``` command lists the contents of the directory the Jupyter notebook is running in. Note that ```%ls``` is a Jupyter notebook magic command and not valid Python code."
   ]
  },
  {
   "cell_type": "code",
   "execution_count": 1,
   "metadata": {},
   "outputs": [],
   "source": [
    "%ls"
   ]
  },
  {
   "cell_type": "code",
   "execution_count": 2,
   "metadata": {},
   "outputs": [],
   "source": [
    "with open('cat_in_hat_words.txt', 'r') as f:\n",
    "    words = [line.strip() for line in f.readlines()]\n",
    "print(words)"
   ]
  },
  {
   "cell_type": "code",
   "execution_count": 3,
   "metadata": {},
   "outputs": [
    {
     "data": {
      "text/plain": [
       "'after all'"
      ]
     },
     "execution_count": 3,
     "metadata": {},
     "output_type": "execute_result"
    }
   ],
   "source": [
    "words[2]+' '+words[3]"
   ]
  },
  {
   "cell_type": "code",
   "execution_count": 4,
   "metadata": {},
   "outputs": [
    {
     "data": {
      "text/plain": [
       "'big'"
      ]
     },
     "execution_count": 4,
     "metadata": {},
     "output_type": "execute_result"
    }
   ],
   "source": [
    "words[20]"
   ]
  },
  {
   "cell_type": "code",
   "execution_count": 5,
   "metadata": {},
   "outputs": [
    {
     "name": "stdout",
     "output_type": "stream",
     "text": [
      "Hi Engineers!\n",
      "12345\n",
      "Teachers always say 'do your homework', at least that's what I've heard\n",
      "Ω or Omega\n"
     ]
    }
   ],
   "source": [
    "salutation=\"Hi Engineers!\"\n",
    "# this line is a comment\n",
    "print(salutation)\n",
    "print(\"12345\") #printing numbers this way makes them a string of characters\n",
    "# printing text that contains a quotation and quotation marks\n",
    "print(\"Teachers always say 'do your homework', at least that's what I've heard\")\n",
    "# printing a unicode character\n",
    "print(\"\\u03a9 or Omega\")"
   ]
  },
  {
   "cell_type": "code",
   "execution_count": 6,
   "metadata": {},
   "outputs": [
    {
     "data": {
      "text/plain": [
       "3.0"
      ]
     },
     "execution_count": 6,
     "metadata": {},
     "output_type": "execute_result"
    }
   ],
   "source": [
    "# exersizes\n",
    "\n",
    "1.\n",
    "\n",
    "2.\n",
    "\n",
    "3."
   ]
  },
  {
   "cell_type": "code",
   "execution_count": 7,
   "metadata": {},
   "outputs": [
    {
     "name": "stdout",
     "output_type": "stream",
     "text": [
      "1\n",
      "0\n",
      "-6\n",
      "<class 'int'>\n",
      "1.3\n",
      "4.0\n",
      "0.8\n",
      "5000000.0\n",
      "-1.2e-08\n",
      "<class 'float'>\n",
      "3.141592653589793\n",
      "3.14\n",
      "2.718281828459045\n",
      "1.4142135623730951\n",
      "(1.1+7j)\n",
      "<class 'complex'>\n"
     ]
    }
   ],
   "source": [
    "import numpy as np #this library will be needed for constants and functions\n",
    "# Integers\n",
    "print(1)\n",
    "print(0)\n",
    "print(-6)\n",
    "print(type(-6))\n",
    "# Floats\n",
    "print(1.3)\n",
    "print(4.)\n",
    "print(.8)\n",
    "print(5.e6)\n",
    "x = -12.e-9\n",
    "print(x)\n",
    "print(type(x)) #let's check the number type with this built in function\n",
    "print(np.pi) #this constant is in the numpy library\n",
    "print(round(np.pi,2)) #round to two place after the decimal point\n",
    "print(np.e)\n",
    "print(np.sqrt(2))\n",
    "# Complex Numbers\n",
    "x = 1.1+7.0j\n",
    "print(x)\n",
    "print(type(x))\n",
    "numbers = np.linspace(0, 1, 6)"
   ]
  },
  {
   "cell_type": "code",
   "execution_count": null,
   "metadata": {},
   "outputs": [],
   "source": []
  }
 ],
 "metadata": {
  "kernelspec": {
   "display_name": "Python 3",
   "language": "python",
   "name": "python3"
  },
  "language_info": {
   "codemirror_mode": {
    "name": "ipython",
    "version": 3
   },
   "file_extension": ".py",
   "mimetype": "text/x-python",
   "name": "python",
   "nbconvert_exporter": "python",
   "pygments_lexer": "ipython3",
   "version": "3.7.0"
  }
 },
 "nbformat": 4,
 "nbformat_minor": 2
}
