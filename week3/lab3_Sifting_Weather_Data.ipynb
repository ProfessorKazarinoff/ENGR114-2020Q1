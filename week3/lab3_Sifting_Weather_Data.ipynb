{
 "cells": [
  {
   "cell_type": "markdown",
   "metadata": {},
   "source": [
    "# Lab 3: Sifting Weather Data\n",
    "\n",
    " * Course: ENGR114 2020Q1\n",
    " * Date: 2020-01-27\n",
    " * Description: Pulling meaningful statistics out of a set of weather data\n"
   ]
  },
  {
   "cell_type": "markdown",
   "metadata": {},
   "source": [
    "## Download and ensure the excel data file is in the same folder as the running Jupyter notebook"
   ]
  },
  {
   "cell_type": "code",
   "execution_count": 1,
   "metadata": {},
   "outputs": [
    {
     "name": "stdout",
     "output_type": "stream",
     "text": [
      " Volume in drive D is LEXAR\n",
      " Volume Serial Number is 0000-0000\n",
      "\n",
      " Directory of D:\\ENGR114-2020Q1\\week3\n",
      "\n",
      "01/27/2020  09:16 AM    <DIR>          .\n",
      "01/27/2020  09:16 AM    <DIR>          ..\n",
      "01/27/2020  09:17 AM    <DIR>          .ipynb_checkpoints\n",
      "01/27/2020  12:00 PM             6,498 lab3_Sifting_Weather_Data.ipynb\n",
      "01/27/2020  10:47 AM            10,204 weather_data.xlsx\n",
      "01/27/2020  10:42 AM             3,949 Week_3_Notes_Review_of_Printing_Variables.ipynb\n",
      "01/27/2020  10:21 AM            21,272 week3_Arrays_in_class_notes.ipynb\n",
      "               4 File(s)         41,923 bytes\n",
      "               3 Dir(s)   1,910,374,400 bytes free\n"
     ]
    }
   ],
   "source": [
    "%ls"
   ]
  },
  {
   "cell_type": "markdown",
   "metadata": {},
   "source": [
    "## Import the packages needed to complete the lab"
   ]
  },
  {
   "cell_type": "code",
   "execution_count": 2,
   "metadata": {},
   "outputs": [
    {
     "name": "stdout",
     "output_type": "stream",
     "text": [
      "NumPy version: 1.15.1\n",
      "Pandas version: 0.23.4\n"
     ]
    }
   ],
   "source": [
    "import numpy as np\n",
    "import pandas as pd\n",
    "print(f\"NumPy version: {np.__version__}\")\n",
    "print(f\"Pandas version: {pd.__version__}\")"
   ]
  },
  {
   "cell_type": "markdown",
   "metadata": {},
   "source": [
    "## Bring in the .xlsx data file and convert it into a NumPy array"
   ]
  },
  {
   "cell_type": "code",
   "execution_count": 3,
   "metadata": {},
   "outputs": [],
   "source": [
    "df = pd.read_excel('weather_data.xlsx', header=None)\n",
    "wd = np.array(df)"
   ]
  },
  {
   "cell_type": "markdown",
   "metadata": {},
   "source": [
    "## Select a month, pull out that months data and clean that months data up"
   ]
  },
  {
   "cell_type": "code",
   "execution_count": 4,
   "metadata": {},
   "outputs": [],
   "source": [
    "# select a month\n",
    "m = 1   # 0 is January, 1 is February, 2 is March etc\n",
    "# pull out that month's data\n",
    "md = wd[m,:]     # select the specified month row, all cols\n",
    "# pull out all the positive values in the month using a boolean mask\n",
    "mask = md >=0\n",
    "md = md[mask]\n",
    "# use broadcasting to multiply each value in the array by 0.01 to obtain rainfall in inches (instead of in 100th of an inch)\n",
    "md = md*0.01"
   ]
  },
  {
   "cell_type": "markdown",
   "metadata": {},
   "source": [
    "## Pull out the meaningful staticsitcs from the the selected month"
   ]
  },
  {
   "cell_type": "code",
   "execution_count": 5,
   "metadata": {},
   "outputs": [
    {
     "data": {
      "text/plain": [
       "0.3678571428571428"
      ]
     },
     "execution_count": 5,
     "metadata": {},
     "output_type": "execute_result"
    }
   ],
   "source": [
    "# Average inches fallen in month\n",
    "m_avg = np.mean(md)\n",
    "\n",
    "# Maximum inches fallen in month\n",
    "m_max = np.max(md)\n",
    "\n",
    "# Day(s) of the month in which the max inches fell\n",
    "d_max = np.where(md==m_max)\n",
    "\n",
    "# Number of days when no rain fell \n",
    "no_rain_mask = md==0\n",
    "nd_zero = len(md[no_rain_mask])\n",
    "\n",
    "# Days of the month when no rain fell\n",
    "np_where_output = np.where(md==0)\n",
    "d_zero = np_where_output[0]+1\n",
    "\n",
    "# Days of the month when some rain fell\n",
    "np_where_output_greater_than_0 = np.where(md>0)\n",
    "d_nonzero = np_where_output_greater_than_0[0]+1\n",
    "\n",
    "# The number of day when some rain fell\n",
    "nd_nonzero = len(d_nonzero)\n",
    "nd_nonzero\n",
    "\n",
    "# Average inches of rain only on days rain fell\n",
    "m_avg_nonzero = np.mean(md[np_where_output_greater_than_0])\n",
    "m_avg_nonzero"
   ]
  },
  {
   "cell_type": "markdown",
   "metadata": {},
   "source": [
    "## Print out the meaningful statistis to the user"
   ]
  },
  {
   "cell_type": "code",
   "execution_count": 7,
   "metadata": {},
   "outputs": [
    {
     "name": "stdout",
     "output_type": "stream",
     "text": [
      "Average inches fallen in month 0.18392857142857144\n",
      "Maximum inches fallen in month 1.35\n",
      "Day(s) of the month in which the max inches fell 18\n",
      "Number of days where no rain fell 14\n",
      "Days of the month when no rain fell [ 3  5  6  7  9 14 15 16 21 22 23 25 26 27]\n",
      "Days of the month when some rain fell [ 1  2  4  8 10 11 12 13 17 18 19 20 24 28]\n",
      "The number of day when some rain fell 14\n",
      "Average inches of rain only on days rain fell 0.3678571428571428\n"
     ]
    }
   ],
   "source": [
    "print(f'Average inches fallen in month {m_avg}')\n",
    "print(f'Maximum inches fallen in month {m_max}')\n",
    "print(f'Day(s) of the month in which the max inches fell {d_max[0][0]+1}')\n",
    "print(f'Number of days where no rain fell {nd_zero}')\n",
    "print(f'Days of the month when no rain fell {d_zero}')\n",
    "print(f'Days of the month when some rain fell {d_nonzero}')\n",
    "print(f'The number of day when some rain fell {nd_nonzero}')\n",
    "print(f'Average inches of rain only on days rain fell {m_avg_nonzero}')"
   ]
  },
  {
   "cell_type": "code",
   "execution_count": null,
   "metadata": {},
   "outputs": [],
   "source": []
  }
 ],
 "metadata": {
  "kernelspec": {
   "display_name": "Python 3",
   "language": "python",
   "name": "python3"
  },
  "language_info": {
   "codemirror_mode": {
    "name": "ipython",
    "version": 3
   },
   "file_extension": ".py",
   "mimetype": "text/x-python",
   "name": "python",
   "nbconvert_exporter": "python",
   "pygments_lexer": "ipython3",
   "version": "3.7.0"
  }
 },
 "nbformat": 4,
 "nbformat_minor": 2
}
