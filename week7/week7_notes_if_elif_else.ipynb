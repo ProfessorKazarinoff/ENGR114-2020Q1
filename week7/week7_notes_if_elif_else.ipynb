{
 "cells": [
  {
   "cell_type": "markdown",
   "metadata": {},
   "source": [
    "# Week 7 Notes: If, Elif, Else"
   ]
  },
  {
   "cell_type": "markdown",
   "metadata": {},
   "source": [
    "Selection structures in Python can include the if, elif and else keywords. The general syntax using these keywords is below.\n",
    "\n",
    "```\n",
    "if <logical expression>:\n",
    "    <code that runs if logical expression is true>\n",
    "elif <logical expression 2>:\n",
    "    <code that runs if logical expression 2 is true>\n",
    "elif <logical expression 3>:\n",
    "    <code that runs if logical expression 3 is true>\n",
    "else:\n",
    "    <code that runs if none of the logical expressions above are true>\n",
    "```"
   ]
  },
  {
   "cell_type": "markdown",
   "metadata": {},
   "source": [
    "## Example using if statement"
   ]
  },
  {
   "cell_type": "code",
   "execution_count": 5,
   "metadata": {},
   "outputs": [
    {
     "name": "stdout",
     "output_type": "stream",
     "text": [
      "Enter a number: 0\n"
     ]
    }
   ],
   "source": [
    "n_str = input('Enter a number: ')\n",
    "n_flt = float(n_str)\n",
    "if n_flt>0:\n",
    "    print(\"positive\")\n",
    "elif n_flt<0:\n",
    "    print(\"negative\")\n"
   ]
  },
  {
   "cell_type": "markdown",
   "metadata": {},
   "source": [
    "# Example using if, elif and else"
   ]
  },
  {
   "cell_type": "code",
   "execution_count": 11,
   "metadata": {},
   "outputs": [
    {
     "name": "stdout",
     "output_type": "stream",
     "text": [
      "Enter a number: 0\n",
      "zero\n"
     ]
    }
   ],
   "source": [
    "n_str = input(\"Enter a number: \")\n",
    "n_flt = float(n_str)\n",
    "if n_flt>0:\n",
    "    print(\"positive\")\n",
    "elif n_flt<0:\n",
    "    print(\"negative\")\n",
    "elif n_flt==0:\n",
    "    print(\"zero\")"
   ]
  },
  {
   "cell_type": "markdown",
   "metadata": {},
   "source": [
    "# Example using an if statement embeded in another if statement"
   ]
  },
  {
   "cell_type": "code",
   "execution_count": 16,
   "metadata": {},
   "outputs": [
    {
     "name": "stdout",
     "output_type": "stream",
     "text": [
      "Enter a number5\n",
      "postive\n",
      "less than 100\n"
     ]
    }
   ],
   "source": [
    "n = float(input(\"Enter a number\"))\n",
    "if n>0:\n",
    "    print(\"postive\")\n",
    "    if n>100:\n",
    "        print(\"greater than 100\")\n",
    "    else:\n",
    "        print(\"less than 100\")\n",
    "elif n<0:\n",
    "    print(\"negative\")\n",
    "else:\n",
    "    print(\"zero\")"
   ]
  },
  {
   "cell_type": "markdown",
   "metadata": {},
   "source": [
    "# Example using strings and Python's in operator"
   ]
  },
  {
   "cell_type": "code",
   "execution_count": 30,
   "metadata": {},
   "outputs": [
    {
     "ename": "SyntaxError",
     "evalue": "invalid syntax (<ipython-input-30-b0024808aaa0>, line 2)",
     "output_type": "error",
     "traceback": [
      "\u001b[1;36m  File \u001b[1;32m\"<ipython-input-30-b0024808aaa0>\"\u001b[1;36m, line \u001b[1;32m2\u001b[0m\n\u001b[1;33m    if:\u001b[0m\n\u001b[1;37m      ^\u001b[0m\n\u001b[1;31mSyntaxError\u001b[0m\u001b[1;31m:\u001b[0m invalid syntax\n"
     ]
    }
   ],
   "source": [
    "animal = input(\"Which Animal? \")\n",
    "if animal.lower() in ['mouse','mouse','cat','dog']:\n",
    "    print('mammal')\n",
    "    print('really a mammal')\n",
    "elif animal.lower() in ['aligator','croc']:\n",
    "    print(\"reptile\")\n",
    "else:\n",
    "    print(\"neither\")"
   ]
  },
  {
   "cell_type": "code",
   "execution_count": 22,
   "metadata": {},
   "outputs": [
    {
     "data": {
      "text/plain": [
       "False"
      ]
     },
     "execution_count": 22,
     "metadata": {},
     "output_type": "execute_result"
    }
   ],
   "source": [
    "'dog' in ['mouse','cat']"
   ]
  },
  {
   "cell_type": "code",
   "execution_count": 25,
   "metadata": {},
   "outputs": [
    {
     "data": {
      "text/plain": [
       "'mouse'"
      ]
     },
     "execution_count": 25,
     "metadata": {},
     "output_type": "execute_result"
    }
   ],
   "source": [
    "'Mouse'.lower()"
   ]
  },
  {
   "cell_type": "code",
   "execution_count": null,
   "metadata": {},
   "outputs": [],
   "source": []
  }
 ],
 "metadata": {
  "kernelspec": {
   "display_name": "Python 3",
   "language": "python",
   "name": "python3"
  },
  "language_info": {
   "codemirror_mode": {
    "name": "ipython",
    "version": 3
   },
   "file_extension": ".py",
   "mimetype": "text/x-python",
   "name": "python",
   "nbconvert_exporter": "python",
   "pygments_lexer": "ipython3",
   "version": "3.7.0"
  }
 },
 "nbformat": 4,
 "nbformat_minor": 2
}
