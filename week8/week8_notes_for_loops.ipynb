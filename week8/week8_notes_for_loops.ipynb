{
 "cells": [
  {
   "cell_type": "markdown",
   "metadata": {},
   "source": [
    "# Week 8 Notes: For Loops"
   ]
  },
  {
   "cell_type": "markdown",
   "metadata": {},
   "source": [
    "Both for loops and while loops are repetion structures in Python. \n",
    "\n",
    "For loops are an example of definite iteration: run a section of code a specific number of times\n",
    "\n",
    "While loops are an example of indfinite iteration: run a section of code any number of times"
   ]
  },
  {
   "cell_type": "markdown",
   "metadata": {},
   "source": [
    "## For Loops in Python\n",
    "\n",
    "For loops are useful when you want to run a section of code a specific number of times"
   ]
  },
  {
   "cell_type": "code",
   "execution_count": 1,
   "metadata": {},
   "outputs": [
    {
     "name": "stdout",
     "output_type": "stream",
     "text": [
      "ENGR114\n",
      "ENGR114\n",
      "ENGR114\n"
     ]
    }
   ],
   "source": [
    "print('ENGR114')\n",
    "print('ENGR114')\n",
    "print('ENGR114')"
   ]
  },
  {
   "cell_type": "markdown",
   "metadata": {},
   "source": [
    "Python's syntax for for loops:\n",
    "\n",
    "```\n",
    "for <var> in <interable>:\n",
    "    <code>\n",
    "```"
   ]
  },
  {
   "cell_type": "markdown",
   "metadata": {},
   "source": [
    "Python's range() function\n",
    "\n",
    "```\n",
    "range(start, stop, step)\n",
    "```"
   ]
  },
  {
   "cell_type": "code",
   "execution_count": 3,
   "metadata": {},
   "outputs": [
    {
     "name": "stdout",
     "output_type": "stream",
     "text": [
      "range(0, 4)\n"
     ]
    }
   ],
   "source": [
    "print(range(0,4,1)) # will output 0, 1, 2, 3"
   ]
  },
  {
   "cell_type": "code",
   "execution_count": 4,
   "metadata": {},
   "outputs": [
    {
     "data": {
      "text/plain": [
       "range(2, 12, 2)"
      ]
     },
     "execution_count": 4,
     "metadata": {},
     "output_type": "execute_result"
    }
   ],
   "source": [
    "# use range to output even numbers 2 to 10\n",
    "range(2,12,2)"
   ]
  },
  {
   "cell_type": "code",
   "execution_count": 5,
   "metadata": {},
   "outputs": [
    {
     "data": {
      "text/plain": [
       "range(0, 3)"
      ]
     },
     "execution_count": 5,
     "metadata": {},
     "output_type": "execute_result"
    }
   ],
   "source": [
    "range(3)  # default start = 0, default step = 1"
   ]
  },
  {
   "cell_type": "code",
   "execution_count": 6,
   "metadata": {},
   "outputs": [
    {
     "name": "stdout",
     "output_type": "stream",
     "text": [
      "ENGR114\n",
      "ENGR114\n",
      "ENGR114\n"
     ]
    }
   ],
   "source": [
    "for i in range(3):\n",
    "    print('ENGR114')"
   ]
  },
  {
   "cell_type": "code",
   "execution_count": 7,
   "metadata": {},
   "outputs": [
    {
     "name": "stdout",
     "output_type": "stream",
     "text": [
      "ENGR114\n",
      "ENGR114\n",
      "ENGR114\n",
      "ENGR114\n",
      "ENGR114\n"
     ]
    }
   ],
   "source": [
    "for i in range(5):\n",
    "    print('ENGR114')"
   ]
  },
  {
   "cell_type": "code",
   "execution_count": 8,
   "metadata": {},
   "outputs": [
    {
     "name": "stdout",
     "output_type": "stream",
     "text": [
      "1\n",
      "2\n",
      "3\n",
      "4\n",
      "5\n"
     ]
    }
   ],
   "source": [
    "# count from 1 to 5 using a for loop\n",
    "for i in range(1,6):  # default count=1\n",
    "    print(i)"
   ]
  },
  {
   "cell_type": "code",
   "execution_count": 10,
   "metadata": {},
   "outputs": [
    {
     "name": "stdout",
     "output_type": "stream",
     "text": [
      "2\n",
      "4\n",
      "6\n",
      "8\n",
      "10\n"
     ]
    }
   ],
   "source": [
    "# count from 2 to 10 by 2's using a for loop\n",
    "for i in range(2,12,2):\n",
    "    print(i)"
   ]
  },
  {
   "cell_type": "code",
   "execution_count": 13,
   "metadata": {},
   "outputs": [
    {
     "name": "stdout",
     "output_type": "stream",
     "text": [
      "5\n",
      "4\n",
      "3\n",
      "2\n",
      "1\n",
      "blast off!\n"
     ]
    }
   ],
   "source": [
    "# make a count down timer that counts 5-4-3-2-1 blast off!\n",
    "\n",
    "import time\n",
    "\n",
    "for i in range(5,0,-1):\n",
    "    print(i)\n",
    "    time.sleep(1)  # wait 1 second\n",
    "\n",
    "print('blast off!')    "
   ]
  },
  {
   "cell_type": "markdown",
   "metadata": {},
   "source": [
    "### For loops with lists"
   ]
  },
  {
   "cell_type": "code",
   "execution_count": 14,
   "metadata": {},
   "outputs": [
    {
     "name": "stdout",
     "output_type": "stream",
     "text": [
      "ENGR114\n",
      "5.5\n",
      "True\n"
     ]
    }
   ],
   "source": [
    "values = ['ENGR114', 5.5, True]\n",
    "\n",
    "for value in values:\n",
    "    print(value)"
   ]
  },
  {
   "cell_type": "code",
   "execution_count": 15,
   "metadata": {},
   "outputs": [
    {
     "name": "stdout",
     "output_type": "stream",
     "text": [
      "P\n",
      "r\n",
      "o\n",
      "b\n",
      "l\n",
      "e\n",
      "m\n",
      " \n",
      "S\n",
      "o\n",
      "l\n",
      "v\n",
      "i\n",
      "n\n",
      "g\n"
     ]
    }
   ],
   "source": [
    "### For loops with strings\n",
    "\n",
    "letters = 'Problem Solving'\n",
    "\n",
    "for letter in letters:\n",
    "    print(letter)"
   ]
  },
  {
   "cell_type": "markdown",
   "metadata": {},
   "source": [
    "### For loops with enumerate()\n",
    "\n",
    "Sometimes it is useful to know the number element or the location of a value when you are interating through a list or string of values using a for loop"
   ]
  },
  {
   "cell_type": "code",
   "execution_count": 16,
   "metadata": {},
   "outputs": [
    {
     "name": "stdout",
     "output_type": "stream",
     "text": [
      "Jan\n",
      "Feb\n",
      "Mar\n"
     ]
    }
   ],
   "source": [
    "months = ['Jan','Feb','Mar']\n",
    "\n",
    "for month in months:\n",
    "    print(month)"
   ]
  },
  {
   "cell_type": "code",
   "execution_count": 17,
   "metadata": {},
   "outputs": [
    {
     "name": "stdout",
     "output_type": "stream",
     "text": [
      " Number 1 is month: Jan\n",
      " Number 2 is month: Feb\n",
      " Number 3 is month: Mar\n"
     ]
    }
   ],
   "source": [
    "months = ['Jan','Feb','Mar']\n",
    "\n",
    "for i, month in enumerate(months):\n",
    "    print(f' Number {i+1} is month: {month}')"
   ]
  },
  {
   "cell_type": "code",
   "execution_count": 19,
   "metadata": {},
   "outputs": [
    {
     "name": "stdout",
     "output_type": "stream",
     "text": [
      "number 0 is letter a\n",
      "number 1 is letter b\n",
      "number 2 is letter c\n",
      "number 3 is letter d\n",
      "number 4 is letter e\n",
      "number 5 is letter f\n",
      "number 6 is letter g\n"
     ]
    }
   ],
   "source": [
    "letters = 'abcdefg'\n",
    "for n, letter in enumerate(letters):\n",
    "    print(f'number {n} is letter {letter}')"
   ]
  },
  {
   "cell_type": "code",
   "execution_count": 20,
   "metadata": {},
   "outputs": [
    {
     "name": "stdout",
     "output_type": "stream",
     "text": [
      "number 0 is letter a\n",
      "number 1 is letter b\n",
      "number 2 is letter c\n",
      "number 3 is letter d\n",
      "number 4 is letter e\n",
      "number 5 is letter f\n",
      "number 6 is letter g\n"
     ]
    }
   ],
   "source": [
    "letters = 'abcdefg'\n",
    "n = 0\n",
    "for letter in letters:\n",
    "    print(f'number {n} is letter {letter}')\n",
    "    n = n + 1"
   ]
  },
  {
   "cell_type": "markdown",
   "metadata": {},
   "source": [
    "### Nested for loops, for loops inside other for loops"
   ]
  },
  {
   "cell_type": "code",
   "execution_count": 21,
   "metadata": {},
   "outputs": [
    {
     "name": "stdout",
     "output_type": "stream",
     "text": [
      "outer loop run 0, inner loop run 0\n",
      "outer loop run 0, inner loop run 1\n",
      "outer loop run 0, inner loop run 2\n",
      "outer loop run 1, inner loop run 0\n",
      "outer loop run 1, inner loop run 1\n",
      "outer loop run 1, inner loop run 2\n"
     ]
    }
   ],
   "source": [
    "# run an outer loop twice, run an inner loops 3 times\n",
    "for i_outer in range(2):\n",
    "    for i_inner in range(3):\n",
    "        print(f'outer loop run {i_outer}, inner loop run {i_inner}')"
   ]
  },
  {
   "cell_type": "markdown",
   "metadata": {},
   "source": [
    "### break allows you to hop out of a loop"
   ]
  },
  {
   "cell_type": "code",
   "execution_count": 23,
   "metadata": {},
   "outputs": [
    {
     "name": "stdout",
     "output_type": "stream",
     "text": [
      "1\n",
      "2\n",
      "3\n",
      "loop ended\n"
     ]
    }
   ],
   "source": [
    "# count up to 5, but when we hit 3, stop counting\n",
    "for i in range(1,6):\n",
    "    print(i)\n",
    "    if i == 3:\n",
    "        break\n",
    "\n",
    "print('loop ended')"
   ]
  },
  {
   "cell_type": "markdown",
   "metadata": {},
   "source": [
    "### continue allows you to stop the current interation of a loop and start up at the top of the next iteration of the loop"
   ]
  },
  {
   "cell_type": "code",
   "execution_count": 29,
   "metadata": {},
   "outputs": [
    {
     "name": "stdout",
     "output_type": "stream",
     "text": [
      "this iteration of the loops is starting\n",
      "1\n",
      "this iteration of the loop is complete\n",
      "this iteration of the loops is starting\n",
      "2\n",
      "this iteration of the loop is complete\n",
      "this iteration of the loops is starting\n",
      "this iteration of the loops is starting\n",
      "4\n",
      "this iteration of the loop is complete\n",
      "this iteration of the loops is starting\n",
      "5\n",
      "this iteration of the loop is complete\n",
      "All iterations of the loop are done\n"
     ]
    }
   ],
   "source": [
    "# count up to 5, but leave out the number 3\n",
    "for i in range(1,6):\n",
    "    print('this iteration of the loops is starting')\n",
    "    if i == 3:\n",
    "        continue\n",
    "    print(i)\n",
    "    print('this iteration of the loop is complete')\n",
    "\n",
    "print('All iterations of the loop are done')"
   ]
  },
  {
   "cell_type": "markdown",
   "metadata": {},
   "source": [
    "### can ```i``` be defined before the loop starts?"
   ]
  },
  {
   "cell_type": "code",
   "execution_count": 35,
   "metadata": {},
   "outputs": [
    {
     "name": "stdout",
     "output_type": "stream",
     "text": [
      "0\n",
      "1\n",
      "2\n"
     ]
    }
   ],
   "source": [
    "i = 40\n",
    "for i in range(3):\n",
    "    print(i)"
   ]
  },
  {
   "cell_type": "code",
   "execution_count": 33,
   "metadata": {},
   "outputs": [
    {
     "name": "stdout",
     "output_type": "stream",
     "text": [
      "0\n",
      "1\n",
      "2\n",
      "3\n",
      "4\n",
      "5\n",
      "6\n",
      "7\n",
      "8\n",
      "9\n",
      "10\n",
      "11\n",
      "12\n",
      "13\n",
      "14\n",
      "15\n",
      "16\n",
      "17\n",
      "18\n",
      "19\n"
     ]
    }
   ],
   "source": [
    "limit = 20\n",
    "for i in range(limit):\n",
    "    print(i)"
   ]
  },
  {
   "cell_type": "markdown",
   "metadata": {},
   "source": [
    "### Playing Fizz Buzz with a for loop"
   ]
  },
  {
   "cell_type": "code",
   "execution_count": 36,
   "metadata": {},
   "outputs": [
    {
     "name": "stdout",
     "output_type": "stream",
     "text": [
      "1\n",
      "2\n",
      "3\n",
      "4\n",
      "5\n",
      "6\n",
      "7\n",
      "8\n",
      "9\n",
      "10\n",
      "11\n",
      "12\n",
      "13\n",
      "14\n",
      "15\n",
      "16\n",
      "17\n",
      "18\n",
      "19\n",
      "20\n",
      "21\n",
      "22\n"
     ]
    }
   ],
   "source": [
    "# print out 1 to 22\n",
    "for i in range(1,23):\n",
    "    print(i)"
   ]
  },
  {
   "cell_type": "code",
   "execution_count": 48,
   "metadata": {},
   "outputs": [
    {
     "name": "stdout",
     "output_type": "stream",
     "text": [
      "1\n",
      "2\n",
      "fizz\n",
      "4\n",
      "5\n",
      "fizz\n",
      "7\n",
      "8\n",
      "fizz\n",
      "10\n",
      "11\n",
      "fizz\n",
      "13\n",
      "14\n",
      "fizz\n",
      "16\n",
      "17\n",
      "fizz\n",
      "19\n",
      "20\n",
      "fizz\n",
      "22\n"
     ]
    }
   ],
   "source": [
    "# print out 1 to 22, if number is divisible by 3, print buzz instead of the number\n",
    "\n",
    "for i in range(1,23):\n",
    "    if i % 3 == 0:\n",
    "        print('fizz')\n",
    "    else:\n",
    "        print(i)"
   ]
  },
  {
   "cell_type": "code",
   "execution_count": 49,
   "metadata": {},
   "outputs": [
    {
     "name": "stdout",
     "output_type": "stream",
     "text": [
      "1\n",
      "2\n",
      "fizz\n",
      "4\n",
      "buzz\n",
      "fizz\n",
      "7\n",
      "8\n",
      "fizz\n",
      "buzz\n",
      "11\n",
      "fizz\n",
      "13\n",
      "14\n",
      "fizz\n",
      "16\n",
      "17\n",
      "fizz\n",
      "19\n",
      "buzz\n",
      "fizz\n",
      "22\n"
     ]
    }
   ],
   "source": [
    "# print out 1 to 22, if number is divisible by 3, print fizz, if number divisible by 5, print buzz otherwise print the number\n",
    "for i in range(1,23):\n",
    "    if i % 3 == 0:\n",
    "        print('fizz')\n",
    "    elif i % 5 == 0:\n",
    "        print('buzz')\n",
    "    else:\n",
    "        print(i)"
   ]
  },
  {
   "cell_type": "code",
   "execution_count": 54,
   "metadata": {},
   "outputs": [
    {
     "name": "stdout",
     "output_type": "stream",
     "text": [
      "1\n",
      "2\n",
      "fizz\n",
      "4\n",
      "buzz\n",
      "fizz\n",
      "7\n",
      "8\n",
      "fizz\n",
      "buzz\n",
      "11\n",
      "fizz\n",
      "13\n",
      "14\n",
      "fizz buzz\n",
      "16\n",
      "17\n",
      "fizz\n",
      "19\n",
      "buzz\n",
      "fizz\n",
      "22\n"
     ]
    }
   ],
   "source": [
    "# count 1 to 22, fizz if divisible by 3, buzz if divisible by 5, fizz buzz if divisible by both 3 and 5, otherwise print number\n",
    "\n",
    "for i in range(1,23):\n",
    "    if i % 3 == 0 and i % 5 == 0:\n",
    "        print('fizz buzz')\n",
    "    elif i % 3 == 0:\n",
    "        print('fizz')\n",
    "    elif i % 5 == 0:\n",
    "        print('buzz')\n",
    "    else:\n",
    "        print(i)"
   ]
  },
  {
   "cell_type": "code",
   "execution_count": null,
   "metadata": {},
   "outputs": [],
   "source": []
  }
 ],
 "metadata": {
  "kernelspec": {
   "display_name": "Python 3",
   "language": "python",
   "name": "python3"
  },
  "language_info": {
   "codemirror_mode": {
    "name": "ipython",
    "version": 3
   },
   "file_extension": ".py",
   "mimetype": "text/x-python",
   "name": "python",
   "nbconvert_exporter": "python",
   "pygments_lexer": "ipython3",
   "version": "3.7.0"
  }
 },
 "nbformat": 4,
 "nbformat_minor": 2
}
