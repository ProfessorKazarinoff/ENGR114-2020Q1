{
 "cells": [
  {
   "cell_type": "markdown",
   "metadata": {},
   "source": [
    "# Week 8 Notes: While Loops"
   ]
  },
  {
   "cell_type": "markdown",
   "metadata": {},
   "source": [
    "While loops are one example of a repetion structure in programming. While loops are an example of indefinite iteration. You do not know for sure how many times a while loops will run"
   ]
  },
  {
   "cell_type": "markdown",
   "metadata": {},
   "source": [
    "In the Python the syntax for while loops is below:\n",
    "\n",
    "```\n",
    "while <logical condition>:\n",
    "    <code>\n",
    "```"
   ]
  },
  {
   "cell_type": "code",
   "execution_count": null,
   "metadata": {},
   "outputs": [],
   "source": [
    "# example of a while loop\n",
    "n = 1\n",
    "while n<4:\n",
    "    print(n)\n",
    "    n = n + 1\n",
    "print(\"Exited while loop\")"
   ]
  },
  {
   "cell_type": "code",
   "execution_count": 1,
   "metadata": {},
   "outputs": [
    {
     "name": "stdout",
     "output_type": "stream",
     "text": [
      "Enter a positive number or zero-1\n",
      "Enter a positive number or zero2\n",
      "You entered a valid number\n"
     ]
    }
   ],
   "source": [
    "# example of a while loop to validate user input\n",
    "\n",
    "# set the input as invalid\n",
    "n=-1\n",
    "\n",
    "# start the while loop as long as the input is invalid\n",
    "while not (n>=0):\n",
    "    # ask the user for input\n",
    "    n_str = input('Enter a positive number or zero')\n",
    "    n = float(n_str)\n",
    "print('You entered a valid number')\n",
    "    "
   ]
  },
  {
   "cell_type": "code",
   "execution_count": null,
   "metadata": {},
   "outputs": [],
   "source": [
    "# ask for a valid letter, print back the user if their letter is valid\n",
    "\n",
    "# set the input as invalid, a, b and q are valid\n",
    "s = 'c'\n",
    "# start the while loop as long as the input is invlid\n",
    "while not (s=='a' or s=='b' or s=='q'):\n",
    "    # ask the user for input\n",
    "    s = input('Enter a letter, a, b, or q to quit: ')\n",
    "    if s == 'a':\n",
    "        print('You entered an a that is valid')\n",
    "    if s == 'b':\n",
    "        print('You entered a b that is valid')\n",
    "    if s == 'q':\n",
    "        break\n",
    "print('You exited the while loop')"
   ]
  },
  {
   "cell_type": "code",
   "execution_count": null,
   "metadata": {},
   "outputs": [],
   "source": []
  },
  {
   "cell_type": "code",
   "execution_count": null,
   "metadata": {},
   "outputs": [],
   "source": []
  },
  {
   "cell_type": "code",
   "execution_count": null,
   "metadata": {},
   "outputs": [],
   "source": []
  },
  {
   "cell_type": "code",
   "execution_count": null,
   "metadata": {},
   "outputs": [],
   "source": []
  },
  {
   "cell_type": "code",
   "execution_count": null,
   "metadata": {},
   "outputs": [],
   "source": []
  },
  {
   "cell_type": "code",
   "execution_count": null,
   "metadata": {},
   "outputs": [],
   "source": []
  },
  {
   "cell_type": "code",
   "execution_count": null,
   "metadata": {},
   "outputs": [],
   "source": []
  },
  {
   "cell_type": "code",
   "execution_count": null,
   "metadata": {},
   "outputs": [],
   "source": []
  }
 ],
 "metadata": {
  "kernelspec": {
   "display_name": "Python 3",
   "language": "python",
   "name": "python3"
  },
  "language_info": {
   "codemirror_mode": {
    "name": "ipython",
    "version": 3
   },
   "file_extension": ".py",
   "mimetype": "text/x-python",
   "name": "python",
   "nbconvert_exporter": "python",
   "pygments_lexer": "ipython3",
   "version": "3.7.0"
  }
 },
 "nbformat": 4,
 "nbformat_minor": 2
}
