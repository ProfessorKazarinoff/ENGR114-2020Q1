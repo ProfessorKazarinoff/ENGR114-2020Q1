{
 "cells": [
  {
   "cell_type": "markdown",
   "metadata": {},
   "source": [
    "# Exam 1 Review: Import data from an external file, plot it and calculate something meaningful from it"
   ]
  },
  {
   "cell_type": "markdown",
   "metadata": {},
   "source": [
    "## First make sure the external data file is in the same location as the running Jupyter notebook"
   ]
  },
  {
   "cell_type": "code",
   "execution_count": 2,
   "metadata": {},
   "outputs": [
    {
     "name": "stdout",
     "output_type": "stream",
     "text": [
      " Volume in drive D is LEXAR\n",
      " Volume Serial Number is 0000-0000\n",
      "\n",
      " Directory of D:\\ENGR114-2020Q1\\week6\n",
      "\n",
      "02/10/2020  10:22 AM    <DIR>          .\n",
      "02/10/2020  10:22 AM    <DIR>          ..\n",
      "02/10/2020  10:24 AM    <DIR>          .ipynb_checkpoints\n",
      "02/10/2020  10:36 AM    <DIR>          __pycache__\n",
      "02/10/2020  11:16 AM               203 animal_file.py\n",
      "02/10/2020  11:29 AM                72 Exam1_Review.ipynb\n",
      "02/10/2020  11:24 AM             1,855 FET_data.csv\n",
      "02/10/2020  11:16 AM               324 vehicals_file.py\n",
      "02/10/2020  11:16 AM            11,029 week6_notes.ipynb\n",
      "               5 File(s)         13,483 bytes\n",
      "               4 Dir(s)   1,907,294,208 bytes free\n"
     ]
    }
   ],
   "source": [
    "%ls"
   ]
  },
  {
   "cell_type": "markdown",
   "metadata": {},
   "source": [
    "### import the necessary packages"
   ]
  },
  {
   "cell_type": "code",
   "execution_count": 3,
   "metadata": {},
   "outputs": [],
   "source": [
    "import numpy as np\n",
    "import pandas as pd\n",
    "import matplotlib.pyplot as plt\n",
    "%matplotlib inline"
   ]
  },
  {
   "cell_type": "code",
   "execution_count": 9,
   "metadata": {},
   "outputs": [],
   "source": [
    "df = pd.read_csv('FET_data.csv', header=None)\n",
    "fet_data = np.array(df)\n",
    "#fet_data"
   ]
  },
  {
   "cell_type": "code",
   "execution_count": 10,
   "metadata": {},
   "outputs": [],
   "source": [
    "# Pull out the first column as the x-values in the plot, 2nd column as the y-values in the plot\n",
    "x = fet_data[:,0] # all rows, index 0 column (1st column)\n",
    "y = fet_data[:,1] # all rows, index 1 column (2nd column)"
   ]
  },
  {
   "cell_type": "code",
   "execution_count": 13,
   "metadata": {},
   "outputs": [],
   "source": [
    "#x\n",
    "#y"
   ]
  },
  {
   "cell_type": "code",
   "execution_count": 28,
   "metadata": {},
   "outputs": [
    {
     "data": {
      "image/png": "[encoded data removed]",
      "text/plain": [
       "<Figure size 432x288 with 1 Axes>"
      ]
     },
     "metadata": {
      "needs_background": "light"
     },
     "output_type": "display_data"
    }
   ],
   "source": [
    "# create the fig and axis objects\n",
    "fig, ax = plt.subplots()\n",
    "\n",
    "# plot the data\n",
    "ax.plot(x,y,'r--')  # red and dashed\n",
    "\n",
    "# customize the plot\n",
    "ax.set_xlabel('Voltage (V)')\n",
    "ax.set_ylabel('Current (A)')\n",
    "ax.set_title('FET Measurement Data')\n",
    "ax.legend(['FET Output'])\n",
    "\n",
    "# save the plot\n",
    "\n",
    "# show the plot\n",
    "plt.show()"
   ]
  },
  {
   "cell_type": "code",
   "execution_count": null,
   "metadata": {},
   "outputs": [],
   "source": []
  }
 ],
 "metadata": {
  "kernelspec": {
   "display_name": "Python 3",
   "language": "python",
   "name": "python3"
  },
  "language_info": {
   "codemirror_mode": {
    "name": "ipython",
    "version": 3
   },
   "file_extension": ".py",
   "mimetype": "text/x-python",
   "name": "python",
   "nbconvert_exporter": "python",
   "pygments_lexer": "ipython3",
   "version": "3.7.0"
  }
 },
 "nbformat": 4,
 "nbformat_minor": 2
}
