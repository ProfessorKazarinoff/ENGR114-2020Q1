{
 "cells": [
  {
   "cell_type": "markdown",
   "metadata": {},
   "source": [
    "# Lab 8: Taylor Series\n",
    "\n",
    " * Peter D. Kazarinoff\n",
    " * ENGR114 2020Q1\n",
    " * 2020-03-02\n",
    " * Description: This Jupyter notebook imports the ```taylor()``` function from a module called ```taylor_series.py``` and uses the ```taylor()``` function to calculate $e^2$ and $\\sin(30)$"
   ]
  },
  {
   "cell_type": "markdown",
   "metadata": {},
   "source": [
    "## Import taylor() from taylor_series.py and find sine of 30 degrees and e^2. Compare to Python's sin() exp() functions"
   ]
  },
  {
   "cell_type": "code",
   "execution_count": 1,
   "metadata": {},
   "outputs": [],
   "source": [
    "#%ls"
   ]
  },
  {
   "cell_type": "code",
   "execution_count": 2,
   "metadata": {},
   "outputs": [],
   "source": [
    "from taylor_series import taylor\n",
    "from math import sin, exp, radians"
   ]
  },
  {
   "cell_type": "markdown",
   "metadata": {},
   "source": [
    "### Find the sin of 30 degrees and compare it to Python's sin() function"
   ]
  },
  {
   "cell_type": "code",
   "execution_count": 3,
   "metadata": {},
   "outputs": [
    {
     "name": "stdout",
     "output_type": "stream",
     "text": [
      "Taylor Series Approximation: 0.49999999999999994\n",
      "Python sin() function: 0.49999999999999994\n"
     ]
    }
   ],
   "source": [
    "angle_rad = radians(30)\n",
    "ans_approx = taylor('sin',angle_rad,8)\n",
    "print(f'Taylor Series Approximation: {ans_approx}')\n",
    "ans_sin = sin(angle_rad)\n",
    "print(f'Python sin() function: {ans_sin}')"
   ]
  },
  {
   "cell_type": "markdown",
   "metadata": {},
   "source": [
    "### Calculate e^2 and comapre it to Python's exp() function"
   ]
  },
  {
   "cell_type": "code",
   "execution_count": 4,
   "metadata": {},
   "outputs": [
    {
     "name": "stdout",
     "output_type": "stream",
     "text": [
      "Taylor Series Approximation: 7.389056098930649\n",
      "Python exp() function: 7.38905609893065\n"
     ]
    }
   ],
   "source": [
    "ans_approx = taylor('exp',2,23)\n",
    "print(f'Taylor Series Approximation: {ans_approx}')\n",
    "ans_exp = exp(2)\n",
    "print(f'Python exp() function: {ans_exp}')"
   ]
  },
  {
   "cell_type": "markdown",
   "metadata": {},
   "source": [
    "## Example using cos(x)"
   ]
  },
  {
   "cell_type": "code",
   "execution_count": 5,
   "metadata": {},
   "outputs": [],
   "source": [
    "from math import factorial"
   ]
  },
  {
   "cell_type": "code",
   "execution_count": 6,
   "metadata": {},
   "outputs": [
    {
     "data": {
      "text/plain": [
       "0.540302303791887"
      ]
     },
     "execution_count": 6,
     "metadata": {},
     "output_type": "execute_result"
    }
   ],
   "source": [
    "x = -1\n",
    "1 - x**2/factorial(2) + x**4/factorial(4) - x**6/factorial(6) + x**8/factorial(8) - x**10/factorial(10)"
   ]
  },
  {
   "cell_type": "code",
   "execution_count": 7,
   "metadata": {},
   "outputs": [],
   "source": [
    "from math import cos"
   ]
  },
  {
   "cell_type": "code",
   "execution_count": 8,
   "metadata": {},
   "outputs": [
    {
     "data": {
      "text/plain": [
       "0.5403023058681398"
      ]
     },
     "execution_count": 8,
     "metadata": {},
     "output_type": "execute_result"
    }
   ],
   "source": [
    "cos(-1)"
   ]
  },
  {
   "cell_type": "code",
   "execution_count": 9,
   "metadata": {},
   "outputs": [
    {
     "data": {
      "text/plain": [
       "0.5403023058681397"
      ]
     },
     "execution_count": 9,
     "metadata": {},
     "output_type": "execute_result"
    }
   ],
   "source": [
    "x = -1\n",
    "approx = 0\n",
    "for i in range(30):\n",
    "    term = (-1)**(i) * (x**(2*i)/factorial(2*i))\n",
    "    approx = approx + term\n",
    "approx"
   ]
  },
  {
   "cell_type": "markdown",
   "metadata": {},
   "source": [
    "## Prototype e^x"
   ]
  },
  {
   "cell_type": "code",
   "execution_count": 10,
   "metadata": {},
   "outputs": [
    {
     "data": {
      "text/plain": [
       "1.6484375"
      ]
     },
     "execution_count": 10,
     "metadata": {},
     "output_type": "execute_result"
    }
   ],
   "source": [
    "x = 0.5\n",
    "1 + x + x**2/factorial(2) + x**3/factorial(3) + x**4/factorial(4)"
   ]
  },
  {
   "cell_type": "code",
   "execution_count": 11,
   "metadata": {},
   "outputs": [
    {
     "data": {
      "text/plain": [
       "7.38905609893065"
      ]
     },
     "execution_count": 11,
     "metadata": {},
     "output_type": "execute_result"
    }
   ],
   "source": [
    "from math import exp\n",
    "exp(2)"
   ]
  },
  {
   "cell_type": "code",
   "execution_count": 12,
   "metadata": {},
   "outputs": [
    {
     "data": {
      "text/plain": [
       "7.389056098930649"
      ]
     },
     "execution_count": 12,
     "metadata": {},
     "output_type": "execute_result"
    }
   ],
   "source": [
    "x = 2\n",
    "approx = 0\n",
    "for i in range(50):\n",
    "    term = x**i/factorial(i)\n",
    "    approx = approx + term\n",
    "approx"
   ]
  },
  {
   "cell_type": "markdown",
   "metadata": {},
   "source": [
    "## e^x as a function"
   ]
  },
  {
   "cell_type": "code",
   "execution_count": 13,
   "metadata": {},
   "outputs": [],
   "source": [
    "from math import factorial\n",
    "\n",
    "def taylor_exp(x, n_terms):\n",
    "    \"\"\"\n",
    "    The function taylor_exp() calculates the taylor series approximation of e^x\n",
    "    \n",
    "    input:\n",
    "        x: the number you want to raise e to, float or int\n",
    "        n_terms: the number of terms in the taylor series expansion, int\n",
    "        \n",
    "    output:\n",
    "        approx: taylor series approximation, float\n",
    "    \"\"\"\n",
    "    approx = 0\n",
    "    for i in range(n_terms):\n",
    "        term = x**i/factorial(i)\n",
    "        approx = approx + term\n",
    "    return approx"
   ]
  },
  {
   "cell_type": "code",
   "execution_count": 14,
   "metadata": {},
   "outputs": [
    {
     "data": {
      "text/plain": [
       "0.049787068367863986"
      ]
     },
     "execution_count": 14,
     "metadata": {},
     "output_type": "execute_result"
    }
   ],
   "source": [
    "taylor_exp(-3,50)"
   ]
  },
  {
   "cell_type": "code",
   "execution_count": 15,
   "metadata": {},
   "outputs": [
    {
     "data": {
      "text/plain": [
       "0.049787068367863944"
      ]
     },
     "execution_count": 15,
     "metadata": {},
     "output_type": "execute_result"
    }
   ],
   "source": [
    "from math import exp\n",
    "exp(-3)"
   ]
  },
  {
   "cell_type": "markdown",
   "metadata": {},
   "source": [
    "## Prototype sin(x)"
   ]
  },
  {
   "cell_type": "code",
   "execution_count": 16,
   "metadata": {},
   "outputs": [
    {
     "data": {
      "text/plain": [
       "0.909347442680776"
      ]
     },
     "execution_count": 16,
     "metadata": {},
     "output_type": "execute_result"
    }
   ],
   "source": [
    "x = 2\n",
    "x - x**3/factorial(3) + x**5/factorial(5) - x**7/factorial(7) + x**9/factorial(9)"
   ]
  },
  {
   "cell_type": "code",
   "execution_count": 17,
   "metadata": {},
   "outputs": [
    {
     "data": {
      "text/plain": [
       "0.479425538604203"
      ]
     },
     "execution_count": 17,
     "metadata": {},
     "output_type": "execute_result"
    }
   ],
   "source": [
    "from math import sin\n",
    "sin(0.5)"
   ]
  },
  {
   "cell_type": "code",
   "execution_count": 18,
   "metadata": {},
   "outputs": [
    {
     "data": {
      "text/plain": [
       "0.909347442680776"
      ]
     },
     "execution_count": 18,
     "metadata": {},
     "output_type": "execute_result"
    }
   ],
   "source": [
    "x = 2\n",
    "approx = 0\n",
    "for i in range(5):\n",
    "    term = (-1)**(i) * (x**(2*i+1)/factorial( 2*i+1))\n",
    "    approx = approx + term\n",
    "approx"
   ]
  },
  {
   "cell_type": "markdown",
   "metadata": {},
   "source": [
    "## sin(x) as a function"
   ]
  },
  {
   "cell_type": "code",
   "execution_count": 19,
   "metadata": {},
   "outputs": [],
   "source": [
    "from math import factorial\n",
    "\n",
    "def taylor_sin(x, n_terms):\n",
    "    \"\"\"\n",
    "    The function taylor_sin() calculates the sine of an angle in radians using the taylor series approximation\n",
    "    \n",
    "    input:\n",
    "        x: angle in radians, int or float\n",
    "        n_terms: number of terms in the taylor series approximation, int\n",
    "    output:\n",
    "        appprox: sine of the angle, float\n",
    "    \"\"\"\n",
    "    approx = 0\n",
    "    for i in range(n_terms):\n",
    "        term = (-1)**(i) * (x**(2*i+1)/factorial(2*i+1))\n",
    "        approx = approx + term\n",
    "    return approx"
   ]
  },
  {
   "cell_type": "code",
   "execution_count": 20,
   "metadata": {},
   "outputs": [
    {
     "data": {
      "text/plain": [
       "-0.29552020666133955"
      ]
     },
     "execution_count": 20,
     "metadata": {},
     "output_type": "execute_result"
    }
   ],
   "source": [
    "taylor_sin(-0.3,7)"
   ]
  },
  {
   "cell_type": "code",
   "execution_count": 21,
   "metadata": {},
   "outputs": [
    {
     "data": {
      "text/plain": [
       "-0.29552020666133955"
      ]
     },
     "execution_count": 21,
     "metadata": {},
     "output_type": "execute_result"
    }
   ],
   "source": [
    "from math import sin\n",
    "sin(-0.3)"
   ]
  },
  {
   "cell_type": "code",
   "execution_count": 22,
   "metadata": {},
   "outputs": [
    {
     "name": "stdout",
     "output_type": "stream",
     "text": [
      "Help on function taylor_sin in module __main__:\n",
      "\n",
      "taylor_sin(x, n_terms)\n",
      "    The function taylor_sin() calculates the sine of an angle in radians using the taylor series approximation\n",
      "    \n",
      "    input:\n",
      "        x: angle in radians, int or float\n",
      "        n_terms: number of terms in the taylor series approximation, int\n",
      "    output:\n",
      "        appprox: sine of the angle, float\n",
      "\n"
     ]
    }
   ],
   "source": [
    "help(taylor_sin)"
   ]
  },
  {
   "cell_type": "markdown",
   "metadata": {},
   "source": [
    "## Import the taylor_exp and taylor_sin functions from an external file"
   ]
  },
  {
   "cell_type": "code",
   "execution_count": 23,
   "metadata": {},
   "outputs": [
    {
     "name": "stdout",
     "output_type": "stream",
     "text": [
      " 2019-1099MISC_amazon_income.pdf\r\n",
      " ansible-lookup-file.txt\r\n",
      " azure_login.txt\r\n",
      " \u001b[0m\u001b[01;35mENGR114_2020Q1_Lab8_Part10_taylor_in_py.mp4\u001b[0m\r\n",
      " \u001b[01;35mENGR114_2020Q1_Lab8_Part11_add_exceptions.mp4\u001b[0m\r\n",
      " \u001b[01;35mENGR114_2020Q1_Lab8_Part1_Overview.mp4\u001b[0m\r\n",
      " \u001b[01;35mENGR114_2020Q1_Lab8_Part2_Create_Jupyter_Notebook.mp4\u001b[0m\r\n",
      " \u001b[01;35mENGR114_2020Q1_Lab8_Part3_cos_function.mp4\u001b[0m\r\n",
      " \u001b[01;35mENGR114_2020Q1_Lab8_Part4_exp_function.mp4\u001b[0m\r\n",
      " \u001b[01;35mENGR114_2020Q1_Lab8_Part5_sin_function.mp4\u001b[0m\r\n",
      " \u001b[01;35mENGR114_2020Q1_Lab8_Part6_exp_function.mp4\u001b[0m\r\n",
      " \u001b[01;35mENGR114_2020Q1_Lab8_Part7_sin_function.mp4\u001b[0m\r\n",
      " \u001b[01;35mENGR114_2020Q1_Lab8_Part8_sin_exp_into_py.mp4\u001b[0m\r\n",
      " \u001b[01;35mENGR114_2020Q1_Lab8_Part9_taylor_function.mp4\u001b[0m\r\n",
      " google_oauth_credentials.txt\r\n",
      " jupyter-book-build-instructions.txt\r\n",
      " \u001b[01;34mkenny_nl\u001b[0m/\r\n",
      " lab8.ipynb\r\n",
      " \u001b[01;34m__pycache__\u001b[0m/\r\n",
      "\u001b[01;35m'Screencast 2020-03-03 12:22:38.mp4'\u001b[0m\r\n",
      " taylor_series.py\r\n",
      " test_vpn.txt\r\n",
      " useful_commands.txt\r\n"
     ]
    }
   ],
   "source": [
    "%ls"
   ]
  },
  {
   "cell_type": "code",
   "execution_count": 24,
   "metadata": {},
   "outputs": [],
   "source": [
    "from taylor_series import taylor_exp, taylor_sin"
   ]
  },
  {
   "cell_type": "code",
   "execution_count": 25,
   "metadata": {},
   "outputs": [
    {
     "name": "stdout",
     "output_type": "stream",
     "text": [
      "Help on function taylor_exp in module taylor_series:\n",
      "\n",
      "taylor_exp(x, n_terms)\n",
      "    The function taylor_exp() calculates the taylor series approximation of e^x\n",
      "    \n",
      "    input:\n",
      "        x: the number you want to raise e to, float or int\n",
      "        n_terms: the number of terms in the taylor series expansion, int\n",
      "        \n",
      "    output:\n",
      "        approx: taylor series approximation, float\n",
      "\n"
     ]
    }
   ],
   "source": [
    "help(taylor_exp)"
   ]
  },
  {
   "cell_type": "code",
   "execution_count": 26,
   "metadata": {},
   "outputs": [
    {
     "data": {
      "text/plain": [
       "20.063392857142855"
      ]
     },
     "execution_count": 26,
     "metadata": {},
     "output_type": "execute_result"
    }
   ],
   "source": [
    "taylor_exp(3,10)"
   ]
  },
  {
   "cell_type": "code",
   "execution_count": 27,
   "metadata": {},
   "outputs": [
    {
     "data": {
      "text/plain": [
       "20.085536923187668"
      ]
     },
     "execution_count": 27,
     "metadata": {},
     "output_type": "execute_result"
    }
   ],
   "source": [
    "from math import exp\n",
    "exp(3)"
   ]
  },
  {
   "cell_type": "code",
   "execution_count": 28,
   "metadata": {},
   "outputs": [
    {
     "name": "stdout",
     "output_type": "stream",
     "text": [
      "Help on function taylor_sin in module taylor_series:\n",
      "\n",
      "taylor_sin(x, n_terms)\n",
      "    The function taylor_sin() calculates the sine of an angle in radians using the taylor series approximation\n",
      "    \n",
      "    input:\n",
      "        x: angle in radians, int or float\n",
      "        n_terms: number of terms in the taylor series approximation, int\n",
      "    output:\n",
      "        appprox: sine of the angle, float\n",
      "\n"
     ]
    }
   ],
   "source": [
    "help(taylor_sin)"
   ]
  },
  {
   "cell_type": "code",
   "execution_count": 29,
   "metadata": {},
   "outputs": [
    {
     "data": {
      "text/plain": [
       "-0.7568024953079275"
      ]
     },
     "execution_count": 29,
     "metadata": {},
     "output_type": "execute_result"
    }
   ],
   "source": [
    "taylor_sin(4,20)"
   ]
  },
  {
   "cell_type": "code",
   "execution_count": 30,
   "metadata": {},
   "outputs": [
    {
     "data": {
      "text/plain": [
       "-0.7568024953079282"
      ]
     },
     "execution_count": 30,
     "metadata": {},
     "output_type": "execute_result"
    }
   ],
   "source": [
    "from math import sin\n",
    "sin(4)"
   ]
  },
  {
   "cell_type": "markdown",
   "metadata": {},
   "source": [
    "## Create the taylor() function"
   ]
  },
  {
   "cell_type": "code",
   "execution_count": 31,
   "metadata": {},
   "outputs": [],
   "source": [
    "from taylor_series import taylor_exp, taylor_sin\n",
    "\n",
    "def taylor(func, x, n_terms):\n",
    "    # test to see if the function inputs are valid\n",
    "    \n",
    "    # test to see that 'exp' or 'sin' is entered as the function\n",
    "    if not (func=='exp' or func=='sin'):\n",
    "        raise Exception('only exp and sin functions allowed')\n",
    "    # test to make sure x is between -50 and 50\n",
    "    if not (x>=-50 and x<=50):\n",
    "        raise Exception('Only numbers between -50 and 50')\n",
    "    # test to make sure n_terms is an integer and between 1 and 100 (including 1 and 100)\n",
    "    if not (n_terms%1==0 and n_terms>=1 and n_terms<=100):\n",
    "        raise Exception('The number of terms must be an integer and between 1 and 100')\n",
    "    \n",
    "    # if the func is exp, use taylor_exp function\n",
    "    if func=='exp':\n",
    "        out = taylor_exp(x, n_terms)\n",
    "    # if the func is sin, use taylor_sin function\n",
    "    elif func=='sin':\n",
    "        out = taylor_sin(x, n_terms)\n",
    "    else:\n",
    "        out = None\n",
    "    return out"
   ]
  },
  {
   "cell_type": "code",
   "execution_count": 32,
   "metadata": {},
   "outputs": [
    {
     "data": {
      "text/plain": [
       "5364.411846163908"
      ]
     },
     "execution_count": 32,
     "metadata": {},
     "output_type": "execute_result"
    }
   ],
   "source": [
    "taylor('sin', -20, 20)"
   ]
  },
  {
   "cell_type": "code",
   "execution_count": 33,
   "metadata": {},
   "outputs": [
    {
     "data": {
      "text/plain": [
       "2980.9579870417283"
      ]
     },
     "execution_count": 33,
     "metadata": {},
     "output_type": "execute_result"
    }
   ],
   "source": [
    "from math import exp\n",
    "exp(8)"
   ]
  },
  {
   "cell_type": "code",
   "execution_count": 34,
   "metadata": {},
   "outputs": [
    {
     "data": {
      "text/plain": [
       "0.38941834230865047"
      ]
     },
     "execution_count": 34,
     "metadata": {},
     "output_type": "execute_result"
    }
   ],
   "source": [
    "taylor('sin', 0.4, 80)"
   ]
  },
  {
   "cell_type": "code",
   "execution_count": 35,
   "metadata": {},
   "outputs": [
    {
     "data": {
      "text/plain": [
       "0.3894183423086505"
      ]
     },
     "execution_count": 35,
     "metadata": {},
     "output_type": "execute_result"
    }
   ],
   "source": [
    "from math import sin\n",
    "sin(0.4)"
   ]
  },
  {
   "cell_type": "code",
   "execution_count": 36,
   "metadata": {},
   "outputs": [
    {
     "name": "stdout",
     "output_type": "stream",
     "text": [
      " 2019-1099MISC_amazon_income.pdf\r\n",
      " ansible-lookup-file.txt\r\n",
      " azure_login.txt\r\n",
      " \u001b[0m\u001b[01;35mENGR114_2020Q1_Lab8_Part10_taylor_in_py.mp4\u001b[0m\r\n",
      " \u001b[01;35mENGR114_2020Q1_Lab8_Part11_add_exceptions.mp4\u001b[0m\r\n",
      " \u001b[01;35mENGR114_2020Q1_Lab8_Part1_Overview.mp4\u001b[0m\r\n",
      " \u001b[01;35mENGR114_2020Q1_Lab8_Part2_Create_Jupyter_Notebook.mp4\u001b[0m\r\n",
      " \u001b[01;35mENGR114_2020Q1_Lab8_Part3_cos_function.mp4\u001b[0m\r\n",
      " \u001b[01;35mENGR114_2020Q1_Lab8_Part4_exp_function.mp4\u001b[0m\r\n",
      " \u001b[01;35mENGR114_2020Q1_Lab8_Part5_sin_function.mp4\u001b[0m\r\n",
      " \u001b[01;35mENGR114_2020Q1_Lab8_Part6_exp_function.mp4\u001b[0m\r\n",
      " \u001b[01;35mENGR114_2020Q1_Lab8_Part7_sin_function.mp4\u001b[0m\r\n",
      " \u001b[01;35mENGR114_2020Q1_Lab8_Part8_sin_exp_into_py.mp4\u001b[0m\r\n",
      " \u001b[01;35mENGR114_2020Q1_Lab8_Part9_taylor_function.mp4\u001b[0m\r\n",
      " google_oauth_credentials.txt\r\n",
      " jupyter-book-build-instructions.txt\r\n",
      " \u001b[01;34mkenny_nl\u001b[0m/\r\n",
      " lab8.ipynb\r\n",
      " \u001b[01;34m__pycache__\u001b[0m/\r\n",
      "\u001b[01;35m'Screencast 2020-03-03 12:22:38.mp4'\u001b[0m\r\n",
      " taylor_series.py\r\n",
      " test_vpn.txt\r\n",
      " useful_commands.txt\r\n"
     ]
    }
   ],
   "source": [
    "%ls"
   ]
  },
  {
   "cell_type": "code",
   "execution_count": 37,
   "metadata": {},
   "outputs": [],
   "source": [
    "from taylor_series import taylor"
   ]
  },
  {
   "cell_type": "code",
   "execution_count": 38,
   "metadata": {},
   "outputs": [
    {
     "data": {
      "text/plain": [
       "7.0"
      ]
     },
     "execution_count": 38,
     "metadata": {},
     "output_type": "execute_result"
    }
   ],
   "source": [
    "taylor('exp',2,5)"
   ]
  },
  {
   "cell_type": "code",
   "execution_count": null,
   "metadata": {},
   "outputs": [],
   "source": []
  }
 ],
 "metadata": {
  "kernelspec": {
   "display_name": "Python 3",
   "language": "python",
   "name": "python3"
  },
  "language_info": {
   "codemirror_mode": {
    "name": "ipython",
    "version": 3
   },
   "file_extension": ".py",
   "mimetype": "text/x-python",
   "name": "python",
   "nbconvert_exporter": "python",
   "pygments_lexer": "ipython3",
   "version": "3.7.4"
  }
 },
 "nbformat": 4,
 "nbformat_minor": 2
}
