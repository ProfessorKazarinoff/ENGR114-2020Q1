{
 "cells": [
  {
   "cell_type": "markdown",
   "metadata": {},
   "source": [
    "# Week 9 Notes: Review While Loops\n",
    "\n",
    " * General Syntax of While Loops in Python\n",
    "    \n",
    " * Use a while loop to build a list and count numbers\n",
    " \n",
    " * Use a while loop to validate user input\n",
    "\n",
    " * Use a while loop to calculate college savings, example of an iterative calcaulation- a calculation that depends on the previous calulated term\n"
   ]
  },
  {
   "cell_type": "markdown",
   "metadata": {},
   "source": [
    "## General Synatx of While Loops in Python"
   ]
  },
  {
   "cell_type": "markdown",
   "metadata": {},
   "source": [
    "```\n",
    "while <logical condition>:\n",
    "    <code>\n",
    "```"
   ]
  },
  {
   "cell_type": "markdown",
   "metadata": {},
   "source": [
    "## Use a while loop to count number and build a list that contains number"
   ]
  },
  {
   "cell_type": "markdown",
   "metadata": {},
   "source": [
    "```\n",
    "# create an incrementor variable\n",
    "i = 0\n",
    "while i<4:\n",
    "    <code>\n",
    "    # increase the incrmentor variable\n",
    "    i = i + 1\n",
    "```"
   ]
  },
  {
   "cell_type": "code",
   "execution_count": 4,
   "metadata": {},
   "outputs": [
    {
     "name": "stdout",
     "output_type": "stream",
     "text": [
      "0\n",
      "10\n",
      "20\n",
      "30\n"
     ]
    }
   ],
   "source": [
    "# print out the numbers 0, 10, 20, 30\n",
    "i = 0\n",
    "while i<4:\n",
    "    print(i*10)\n",
    "    # increase the incrementor variable\n",
    "    i = i + 1"
   ]
  },
  {
   "cell_type": "code",
   "execution_count": 5,
   "metadata": {},
   "outputs": [
    {
     "name": "stdout",
     "output_type": "stream",
     "text": [
      "[0, 2, 4, 6, 8, 10]\n"
     ]
    }
   ],
   "source": [
    "# add the numbers 0, 2, 4, 6, 8, 10 into a list using a while loop\n",
    "\n",
    "# create an empty list\n",
    "lst = []\n",
    "\n",
    "# instantiate the incrementor variable\n",
    "i = 0\n",
    "\n",
    "# run the while loop\n",
    "while i < 11:\n",
    "    lst.append(i)     # add the value i to the end of the list called lst\n",
    "    i = i + 2\n",
    "print(lst)"
   ]
  },
  {
   "cell_type": "markdown",
   "metadata": {},
   "source": [
    "## Validate user input using a while loop"
   ]
  },
  {
   "cell_type": "markdown",
   "metadata": {},
   "source": [
    "General syntax to validate user input using a while loop\n",
    "\n",
    "```\n",
    "# set the input as invalid\n",
    "usr_input = 'invalid_input'\n",
    "\n",
    "while not (<what you want>):\n",
    "    # ask the user for valid input\n",
    "    usr_input = input('Ask for valid input')\n",
    "    <code to run inside the while loop>\n",
    "<code to run outside the while loop>\n",
    "```"
   ]
  },
  {
   "cell_type": "code",
   "execution_count": 8,
   "metadata": {},
   "outputs": [
    {
     "name": "stdout",
     "output_type": "stream",
     "text": [
      "Enter a color, red green or blue: zero\n",
      "Enter a color, red green or blue: i want this to be a color\n",
      "Enter a color, red green or blue: green\n",
      "You entered a valid color: green\n"
     ]
    }
   ],
   "source": [
    "# ask a user to enter a color, red green or blue. Ensure the user enters a valid color using a while loop\n",
    "\n",
    "# set the input as invalid\n",
    "color = 'not a color'\n",
    "\n",
    "while not (color == 'red' or color == 'green' or color == 'blue'):\n",
    "    # ask the user for valid input\n",
    "    color = input('Enter a color, red green or blue: ')\n",
    "    \n",
    "print(f'You entered a valid color: {color}')"
   ]
  },
  {
   "cell_type": "code",
   "execution_count": 15,
   "metadata": {},
   "outputs": [
    {
     "name": "stdout",
     "output_type": "stream",
     "text": [
      "Enter a positive even number: -4\n",
      "Enter a positive even number: 7\n",
      "Enter a positive even number: 6\n",
      "You entered a valid number: 6.0\n"
     ]
    }
   ],
   "source": [
    "# ask a user for a number, ensure the number is positive and even\n",
    "\n",
    "# set the input as invalid\n",
    "num = -1\n",
    "\n",
    "# run a while loop to ask for valid input as long as the input is invalid\n",
    "while not (num>=0 and num % 2 == 0):\n",
    "    num_str = input('Enter a positive even number: ')\n",
    "    num = float(num_str)\n",
    "\n",
    "print(f'You entered a valid number: {num}')"
   ]
  },
  {
   "cell_type": "code",
   "execution_count": 9,
   "metadata": {},
   "outputs": [
    {
     "data": {
      "text/plain": [
       "0"
      ]
     },
     "execution_count": 9,
     "metadata": {},
     "output_type": "execute_result"
    }
   ],
   "source": [
    "8 % 2"
   ]
  },
  {
   "cell_type": "code",
   "execution_count": 10,
   "metadata": {},
   "outputs": [
    {
     "data": {
      "text/plain": [
       "1"
      ]
     },
     "execution_count": 10,
     "metadata": {},
     "output_type": "execute_result"
    }
   ],
   "source": [
    "9 % 2"
   ]
  },
  {
   "cell_type": "code",
   "execution_count": 11,
   "metadata": {},
   "outputs": [
    {
     "data": {
      "text/plain": [
       "0"
      ]
     },
     "execution_count": 11,
     "metadata": {},
     "output_type": "execute_result"
    }
   ],
   "source": [
    "4 % 2"
   ]
  },
  {
   "cell_type": "code",
   "execution_count": 12,
   "metadata": {},
   "outputs": [
    {
     "data": {
      "text/plain": [
       "1"
      ]
     },
     "execution_count": 12,
     "metadata": {},
     "output_type": "execute_result"
    }
   ],
   "source": [
    "5 % 2"
   ]
  },
  {
   "cell_type": "markdown",
   "metadata": {},
   "source": [
    "## Use a while loop to caluclate college savings"
   ]
  },
  {
   "cell_type": "markdown",
   "metadata": {},
   "source": [
    "### use a while loop to calculate the amount of money saved for college\n",
    "\n",
    "The formula for compound intrest:\n",
    "\n",
    "new balance = old balance + intrest + contribution\n",
    "\n",
    "intrest = old blance * intrest rate"
   ]
  },
  {
   "cell_type": "code",
   "execution_count": 19,
   "metadata": {},
   "outputs": [
    {
     "name": "stdout",
     "output_type": "stream",
     "text": [
      "[100.0, 205.0, 315.25, 431.0125, 552.563125, 680.19128125, 814.2008453125, 954.910887578125, 1102.6564319570311, 1257.7892535548826, 1420.6787162326268, 1591.7126520442582, 1771.298284646471, 1959.8631988787947, 2157.8563588227344, 2365.749176763871, 2584.036635602065, 2813.238467382168]\n"
     ]
    }
   ],
   "source": [
    "# contribute 100 dolars each year to a college savings fund, at a rate of 5% each year, save for 18 years\n",
    "\n",
    "sav_lst = []\n",
    "old_bal = 0\n",
    "year = 1\n",
    "contribution = 100\n",
    "rate = 0.05\n",
    "\n",
    "while year<=18:\n",
    "    intrest = old_bal * rate\n",
    "    new_bal = old_bal + intrest + contribution\n",
    "    sav_lst.append(new_bal)\n",
    "    old_bal = new_bal\n",
    "    year = year + 1\n",
    "    \n",
    "print(sav_lst)"
   ]
  },
  {
   "cell_type": "code",
   "execution_count": 20,
   "metadata": {},
   "outputs": [
    {
     "data": {
      "text/plain": [
       "18"
      ]
     },
     "execution_count": 20,
     "metadata": {},
     "output_type": "execute_result"
    }
   ],
   "source": [
    "len(sav_lst)"
   ]
  },
  {
   "cell_type": "code",
   "execution_count": 22,
   "metadata": {},
   "outputs": [
    {
     "data": {
      "image/png": "[encoded data removed]",
      "text/plain": [
       "<Figure size 432x288 with 1 Axes>"
      ]
     },
     "metadata": {
      "needs_background": "light"
     },
     "output_type": "display_data"
    }
   ],
   "source": [
    "import matplotlib.pyplot as plt\n",
    "%matplotlib inline\n",
    "\n",
    "fig, ax = plt.subplots()\n",
    "ax.plot(sav_lst)\n",
    "ax.set_xlabel('Years Saved')\n",
    "ax.set_ylabel('Amount of College Savings in Dollars')\n",
    "ax.set_title('College Savings over 18 years, contributing 100 dollars per year at an intrest rate of 5%')\n",
    "plt.show()"
   ]
  },
  {
   "cell_type": "markdown",
   "metadata": {},
   "source": [
    "## How do you break out of a while loop that is running inside another while loop?"
   ]
  },
  {
   "cell_type": "code",
   "execution_count": 25,
   "metadata": {},
   "outputs": [
    {
     "name": "stdout",
     "output_type": "stream",
     "text": [
      "0\n",
      "0\n",
      "1\n",
      "2\n",
      "1\n",
      "2\n",
      "3\n"
     ]
    }
   ],
   "source": [
    "i = 0\n",
    "n = 0\n",
    "\n",
    "while i <=3:\n",
    "    print(i)\n",
    "    while n <=2:\n",
    "        print(n)\n",
    "        n = n + 1\n",
    "    i = i + 1"
   ]
  },
  {
   "cell_type": "code",
   "execution_count": 26,
   "metadata": {},
   "outputs": [
    {
     "name": "stdout",
     "output_type": "stream",
     "text": [
      "0\n",
      "0\n",
      "1\n",
      "2\n",
      "1\n",
      "2\n",
      "2\n",
      "2\n",
      "3\n",
      "2\n"
     ]
    }
   ],
   "source": [
    "i = 0\n",
    "n = 0\n",
    "while i<=3:\n",
    "    print(i)\n",
    "    while True:\n",
    "        print(n)\n",
    "        if n>=2:\n",
    "            break\n",
    "        n = n + 1\n",
    "    i = i + 1"
   ]
  },
  {
   "cell_type": "markdown",
   "metadata": {},
   "source": [
    "# Numerical Methods"
   ]
  },
  {
   "cell_type": "code",
   "execution_count": 37,
   "metadata": {},
   "outputs": [
    {
     "name": "stdout",
     "output_type": "stream",
     "text": [
      "[0.5, 0.25, 0.0625, 0.027777777777777776, 0.015625]\n",
      "0.8559027777777778\n"
     ]
    }
   ],
   "source": [
    "# Approximate the value of 1 using a geometric series\n",
    "\n",
    "lst_terms = [0.5]\n",
    "for i in range(2,10,2):\n",
    "    term = 1/(i**2)\n",
    "    lst_terms.append(term)\n",
    "print(lst_terms)\n",
    "print(sum(lst_terms))"
   ]
  },
  {
   "cell_type": "code",
   "execution_count": 43,
   "metadata": {},
   "outputs": [
    {
     "name": "stdout",
     "output_type": "stream",
     "text": [
      "0.7542679542679545\n"
     ]
    }
   ],
   "source": [
    "# Appriximate pi/4 \n",
    "\n",
    "lst_terms = []\n",
    "for i in range(8):\n",
    "    term = (-1)**i / (2*i+1)\n",
    "    lst_terms.append(term)\n",
    "print(sum(lst_terms))"
   ]
  },
  {
   "cell_type": "code",
   "execution_count": 40,
   "metadata": {},
   "outputs": [
    {
     "data": {
      "text/plain": [
       "0.7853981633974483"
      ]
     },
     "execution_count": 40,
     "metadata": {},
     "output_type": "execute_result"
    }
   ],
   "source": [
    "# compare to python's built-in pi constant\n",
    "from math import pi\n",
    "pi/4"
   ]
  },
  {
   "cell_type": "code",
   "execution_count": 53,
   "metadata": {},
   "outputs": [
    {
     "name": "stdout",
     "output_type": "stream",
     "text": [
      "148.41315910257657\n"
     ]
    }
   ],
   "source": [
    "# make a numerical method calculation of e^x\n",
    "from math import factorial\n",
    "\n",
    "lst_terms = []\n",
    "x=5\n",
    "for i in range(90):\n",
    "    term = (x**i)/(factorial(i))\n",
    "    lst_terms.append(term)\n",
    "ans = sum(lst_terms)\n",
    "print(ans)"
   ]
  },
  {
   "cell_type": "code",
   "execution_count": 48,
   "metadata": {},
   "outputs": [
    {
     "data": {
      "text/plain": [
       "1"
      ]
     },
     "execution_count": 48,
     "metadata": {},
     "output_type": "execute_result"
    }
   ],
   "source": [
    "from math import factorial\n",
    "factorial(0)"
   ]
  },
  {
   "cell_type": "code",
   "execution_count": 51,
   "metadata": {},
   "outputs": [
    {
     "data": {
      "text/plain": [
       "148.4131591025766"
      ]
     },
     "execution_count": 51,
     "metadata": {},
     "output_type": "execute_result"
    }
   ],
   "source": [
    "from math import exp\n",
    "exp(5)"
   ]
  },
  {
   "cell_type": "code",
   "execution_count": 59,
   "metadata": {},
   "outputs": [],
   "source": [
    "# refactor the numerical method to calculate e^x into a function\n",
    "from math import factorial\n",
    "\n",
    "def exp_approx(x,n_terms=5):\n",
    "    lst_terms=[]\n",
    "    for i in range(n_terms):\n",
    "        term = (x**i)/(factorial(i))\n",
    "        lst_terms.append(term)\n",
    "    approx = sum(lst_terms)\n",
    "    return(approx)"
   ]
  },
  {
   "cell_type": "code",
   "execution_count": 61,
   "metadata": {},
   "outputs": [
    {
     "data": {
      "text/plain": [
       "147.60384850489015"
      ]
     },
     "execution_count": 61,
     "metadata": {},
     "output_type": "execute_result"
    }
   ],
   "source": [
    "exp_approx(5,12)"
   ]
  },
  {
   "cell_type": "code",
   "execution_count": 58,
   "metadata": {},
   "outputs": [
    {
     "name": "stdout",
     "output_type": "stream",
     "text": [
      "approx=0 exact=148.4131591025766 diff = 148.4131591025766\n",
      "approx=1.0 exact=148.4131591025766 diff = 147.4131591025766\n",
      "approx=6.0 exact=148.4131591025766 diff = 142.4131591025766\n",
      "approx=18.5 exact=148.4131591025766 diff = 129.9131591025766\n",
      "approx=39.33333333333333 exact=148.4131591025766 diff = 109.07982576924327\n",
      "approx=65.375 exact=148.4131591025766 diff = 83.0381591025766\n",
      "approx=91.41666666666667 exact=148.4131591025766 diff = 56.99649243590993\n",
      "approx=113.11805555555556 exact=148.4131591025766 diff = 35.29510354702104\n",
      "approx=128.61904761904762 exact=148.4131591025766 diff = 19.79411148352898\n",
      "approx=138.30716765873015 exact=148.4131591025766 diff = 10.105991443846449\n",
      "approx=143.68945656966488 exact=148.4131591025766 diff = 4.723702532911716\n",
      "approx=146.38060102513225 exact=148.4131591025766 diff = 2.0325580774443495\n",
      "approx=147.60384850489015 exact=148.4131591025766 diff = 0.8093105976864479\n",
      "approx=148.1135349547893 exact=148.4131591025766 diff = 0.2996241477873127\n",
      "approx=148.3095682047505 exact=148.4131591025766 diff = 0.10359089782610909\n",
      "approx=148.37958007973663 exact=148.4131591025766 diff = 0.03357902283997305\n",
      "approx=148.40291737139867 exact=148.4131591025766 diff = 0.010241731177927704\n",
      "approx=148.41021027504306 exact=148.4131591025766 diff = 0.002948827533543863\n",
      "approx=148.41235524670316 exact=148.4131591025766 diff = 0.0008038558734426715\n",
      "approx=148.4129510721643 exact=148.4131591025766 diff = 0.00020803041229555674\n"
     ]
    }
   ],
   "source": [
    "for n in range(20):\n",
    "    print(f'approx={exp_approx(5,n)} exact={exp(5)} diff = {exp(5)-exp_approx(5,n)}')"
   ]
  },
  {
   "cell_type": "code",
   "execution_count": null,
   "metadata": {},
   "outputs": [],
   "source": []
  }
 ],
 "metadata": {
  "kernelspec": {
   "display_name": "Python 3",
   "language": "python",
   "name": "python3"
  },
  "language_info": {
   "codemirror_mode": {
    "name": "ipython",
    "version": 3
   },
   "file_extension": ".py",
   "mimetype": "text/x-python",
   "name": "python",
   "nbconvert_exporter": "python",
   "pygments_lexer": "ipython3",
   "version": "3.7.0"
  }
 },
 "nbformat": 4,
 "nbformat_minor": 2
}
